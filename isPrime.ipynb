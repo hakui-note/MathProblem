{
  "nbformat": 4,
  "nbformat_minor": 0,
  "metadata": {
    "colab": {
      "provenance": [],
      "authorship_tag": "ABX9TyOngavzo8/9eeQo8o9J3N/N",
      "include_colab_link": true
    },
    "kernelspec": {
      "name": "python3",
      "display_name": "Python 3"
    },
    "language_info": {
      "name": "python"
    }
  },
  "cells": [
    {
      "cell_type": "markdown",
      "metadata": {
        "id": "view-in-github",
        "colab_type": "text"
      },
      "source": [
        "<a href=\"https://colab.research.google.com/github/hakui-note/MathProblem/blob/main/isPrime.ipynb\" target=\"_parent\"><img src=\"https://colab.research.google.com/assets/colab-badge.svg\" alt=\"Open In Colab\"/></a>"
      ]
    },
    {
      "cell_type": "code",
      "execution_count": null,
      "metadata": {
        "colab": {
          "base_uri": "https://localhost:8080/"
        },
        "id": "Fd7MhNZ66Shp",
        "outputId": "17ce3771-b8a5-4091-f2ea-bc1e579e7d65"
      },
      "outputs": [
        {
          "output_type": "stream",
          "name": "stdout",
          "text": [
            "True\n"
          ]
        }
      ],
      "source": [
        "# エラトステネスの篩\n",
        "n = int(input())\n",
        "# 1以上n以下の整数が素数かどうかを返す\n",
        "isprime = [True] * (n+1)\n",
        "\n",
        "# 0, 1はあらかじめ外す\n",
        "isprime[0], isprime[1] = False, False\n",
        "\n",
        "for i in range(2, n+1):\n",
        "  if isprime[i]:\n",
        "    for j in range(i*2, n+1, i):\n",
        "      isprime[j] = False\n",
        "\n",
        "print(isprime[n])"
      ]
    }
  ]
}